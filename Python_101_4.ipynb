{
 "cells": [
  {
   "cell_type": "markdown",
   "metadata": {},
   "source": [
    "# Laisser l'utilisateur entrer des données à la console"
   ]
  },
  {
   "cell_type": "code",
   "execution_count": null,
   "metadata": {
    "collapsed": true
   },
   "outputs": [],
   "source": [
    "nom = input(\"C'est quoi ton petit nom?\")\n",
    "print (\"Bonjour, mon p'tit {}.\".format(nom))"
   ]
  },
  {
   "cell_type": "markdown",
   "metadata": {},
   "source": [
    "# Ouvrir un fichier"
   ]
  },
  {
   "cell_type": "code",
   "execution_count": null,
   "metadata": {},
   "outputs": [],
   "source": [
    "fichier = open (\"Python_101_4.txt\", encoding=\"utf-8\")\n",
    "for ligne in fichier:\n",
    "    print( ligne )\n",
    "fichier.close()"
   ]
  },
  {
   "cell_type": "code",
   "execution_count": null,
   "metadata": {
    "collapsed": true
   },
   "outputs": [],
   "source": [
    "# On trouve souvent ecrit comme cela .. le close sera appeler automatiquement par la magie du \"with\"\n",
    "\n",
    "with open (\"Python_101_3.txt\", encoding=\"utf-8\") as fichier:\n",
    "    for ligne in fichier:\n",
    "        print( ligne.lstrip() )  # left strip sur la chaine "
   ]
  },
  {
   "cell_type": "code",
   "execution_count": null,
   "metadata": {
    "collapsed": true
   },
   "outputs": [],
   "source": [
    "# Ecriture dans un fichier\n",
    "# Mode r:read w:write +:pour ajouter au lieu de remplace\n",
    "with open (\"Python_101_3.txt\", encoding=\"utf-8\") as fichier_in, open (\"output.txt\", \"w\", encoding=\"utf-8\") as fichier_out:\n",
    "    fichier_out.write( fichier_in.read() )\n",
    "\n",
    "with open (\"output.txt\", \"r\", encoding=\"utf-8\") as fichier:\n",
    "    print ( fichier.readlines())"
   ]
  },
  {
   "cell_type": "markdown",
   "metadata": {},
   "source": [
    "# Espèce de Saumure, de Cornichon ou \"The right way to Pickle\"\n",
    "\n",
    "Pickle est la methode de Python pour \"sérialiser\"/\"dé-sérialiser\" de facon *binaire* des objets."
   ]
  },
  {
   "cell_type": "code",
   "execution_count": null,
   "metadata": {
    "collapsed": true
   },
   "outputs": [],
   "source": [
    "import pickle\n",
    "\n",
    "mes_supper_données = [\"égal\",\"empli de bienveillance\",\"empli de tendresse\",\"empressé\",\"en confiance\",\"en harmonie avec en paix\"]\n",
    "fichier = open(\"test_pickle.pkl\",\"bw\")  # Bien utiliser le mode binaire\n",
    "pickle.dump(mes_supper_données, fichier)\n",
    "fichier.close()"
   ]
  },
  {
   "cell_type": "code",
   "execution_count": null,
   "metadata": {
    "collapsed": true
   },
   "outputs": [],
   "source": [
    "fichier = open(\"test_pickle.pkl\",\"rb\")  # Bien utiliser le mode binaire\n",
    "keywords = pickle.load(fichier)\n",
    "fichier.close()\n",
    "print( keywords )\n"
   ]
  },
  {
   "cell_type": "markdown",
   "metadata": {},
   "source": [
    "# Argument de fonction : par référence ou par copie\n",
    "\n",
    "ni l'un ni l'autre mon capitaine .... \n",
    "\n",
    "par assignement: https://docs.python.org/3/faq/programming.html#how-do-i-write-a-function-with-output-parameters-call-by-reference"
   ]
  },
  {
   "cell_type": "code",
   "execution_count": null,
   "metadata": {},
   "outputs": [],
   "source": [
    "# Test avec nombre / str\n",
    "def fonction_test( mon_param ):\n",
    "    print(\"mon_param: \",mon_param,\"id(mon_param): \",id(mon_param))\n",
    "    mon_param = 42\n",
    "    print(\"mon_param: \",mon_param,\"id(mon_param): \",id(mon_param))\n",
    "    \n",
    "mavar = 12\n",
    "print(mavar)\n",
    "print(id(mavar))\n",
    "fonction_test(mavar)\n",
    "print(mavar)\n",
    "print(id(mavar))"
   ]
  },
  {
   "cell_type": "markdown",
   "metadata": {},
   "source": [
    "*int str bool* sont **immutable**\n",
    "\n",
    "Dès que tu affectue un nvl valeur, une autre créer"
   ]
  },
  {
   "cell_type": "code",
   "execution_count": null,
   "metadata": {},
   "outputs": [],
   "source": [
    "# Test avec liste ... ok ?\n",
    "def fonction_test2( ma_list ):\n",
    "    print(\"ma_list: \",ma_list,\"id(ma_list): \",id(ma_list))\n",
    "    ma_list = [\"Bordeaux\",\"Paris\"]   # Object assignment\n",
    "    print(\"ma_list: \",ma_list,\"id(ma_list): \",id(ma_list))\n",
    "    \n",
    "mavar = [\"Montpellier\",\"Toulouse\"]\n",
    "print(mavar)\n",
    "print(id(mavar))\n",
    "fonction_test2(mavar)\n",
    "print(mavar)\n",
    "print(id(mavar))"
   ]
  },
  {
   "cell_type": "code",
   "execution_count": null,
   "metadata": {},
   "outputs": [],
   "source": [
    "def fonction_test2( ma_list ):\n",
    "    print(\"ma_list: \",ma_list,\"id(ma_list): \",id(ma_list))\n",
    "    ma_list[0] = \"Bordeaux\" # Une liste c'est \"mutable\"\n",
    "    print(\"ma_list: \",ma_list,\"id(ma_list): \",id(ma_list))\n",
    "    \n",
    "mavar = [\"Montpellier\",\"Toulouse\"]\n",
    "print(mavar)\n",
    "print(id(mavar))\n",
    "fonction_test2(mavar)\n",
    "print(mavar)\n",
    "print(id(mavar))\n"
   ]
  },
  {
   "cell_type": "code",
   "execution_count": null,
   "metadata": {},
   "outputs": [],
   "source": [
    "# Attention au \"side_effects\"  EX: +=\n",
    "def fonction_test3( ma_list ):\n",
    "    print(\"ma_list: \",ma_list,\"id(ma_list): \",id(ma_list))\n",
    "    ma_list += [\"Bordeaux\",\"Paris\"]\n",
    "    print(\"ma_list: \",ma_list,\"id(ma_list): \",id(ma_list))\n",
    "    \n",
    "mavar = [\"Montpellier\",\"Toulouse\"]\n",
    "print(mavar)\n",
    "print(id(mavar))\n",
    "fonction_test3(mavar)\n",
    "print(mavar)\n",
    "print(id(mavar))"
   ]
  },
  {
   "cell_type": "markdown",
   "metadata": {},
   "source": [
    "# Copie ... de surface ou en profondeur  -- Reference / Copy"
   ]
  },
  {
   "cell_type": "code",
   "execution_count": null,
   "metadata": {
    "scrolled": true
   },
   "outputs": [],
   "source": [
    "# Return the “identity” of an object \n",
    "# CPython implementation detail: This is the address of the object in memory.\n",
    "x = 1978\n",
    "y = 2018\n",
    "print( id(x), id(y))\n",
    "y = 2318\n",
    "print( id(y) )"
   ]
  },
  {
   "cell_type": "code",
   "execution_count": null,
   "metadata": {},
   "outputs": [],
   "source": [
    "ma_liste = [\"Jakarta\",\"Surabaya\",\"Bandung\",\"Bekasi\",\"Medan\",\"Tangerang\",\"Depo\"]\n",
    "mon_autre_liste = ma_liste\n",
    "print ( ma_liste )\n",
    "print ( mon_autre_liste )\n",
    "print ( id(ma_liste), id(mon_autre_liste) )\n",
    "mon_autre_liste[0] = \"Paris\"\n",
    "print ( ma_liste )\n",
    "print ( mon_autre_liste )"
   ]
  },
  {
   "cell_type": "code",
   "execution_count": null,
   "metadata": {},
   "outputs": [],
   "source": [
    "# copier une liste\n",
    "ma_liste = [\"Jakarta\",\"Surabaya\",\"Bandung\",\"Bekasi\",\"Medan\",\"Tangerang\",\"Depo\"]\n",
    "mon_autre_liste = list(ma_liste)\n",
    "print ( id(ma_liste), id(mon_autre_liste) )\n",
    "mon_autre_liste[0] = \"Paris\"\n",
    "print ( ma_liste )\n",
    "print ( mon_autre_liste )\n"
   ]
  },
  {
   "cell_type": "code",
   "execution_count": null,
   "metadata": {
    "scrolled": true
   },
   "outputs": [],
   "source": [
    "# Attention au sous liste\n",
    "ma_liste = [\"Jakarta\",\"Surabaya\",\"Bandung\",\"Bekasi\",\"Medan\",\"Tangerang\",\"Depo\"]\n",
    "mon_autre_liste = ma_liste[:]\n",
    "print ( id(ma_liste), id(mon_autre_liste) )\n",
    "# Ca semble bon ...\n",
    "ma_liste = [\"Jakarta\",\"Surabaya\",\"Bandung\",[\"Bekasi\",\"Medan\",\"Tangerang\",\"Depo\"] ]\n",
    "mon_autre_liste = ma_liste[:]\n",
    "mon_autre_liste[0] = \"Paris\"\n",
    "print ( ma_liste )\n",
    "print ( mon_autre_liste )\n",
    "# en fait ... \n",
    "mon_autre_liste[3][0] = \"Paris\"\n",
    "print ( ma_liste )\n",
    "print ( mon_autre_liste )\n",
    "\n"
   ]
  },
  {
   "cell_type": "markdown",
   "metadata": {},
   "source": [
    "# Deep ~~throat~~ copy"
   ]
  },
  {
   "cell_type": "code",
   "execution_count": null,
   "metadata": {},
   "outputs": [],
   "source": [
    "from copy import deepcopy\n",
    "ma_liste = [\"Jakarta\",\"Surabaya\",\"Bandung\",[\"Bekasi\",\"Medan\",\"Tangerang\",\"Depo\"] ]\n",
    "mon_autre_liste = deepcopy( ma_liste )\n",
    "\n",
    "print ( id(ma_liste), id(mon_autre_liste) )\n",
    "print ( id(ma_liste[0]), id(mon_autre_liste[0]) )\n",
    "print ( id(ma_liste[3]), id(mon_autre_liste[3]) )"
   ]
  },
  {
   "cell_type": "code",
   "execution_count": null,
   "metadata": {},
   "outputs": [],
   "source": [
    "ma_liste[0] = \"Paris\"\n",
    "print ( ma_liste )\n",
    "print ( mon_autre_liste )\n",
    "print ('==============')\n",
    "ma_liste[3][0] = \"Bordeaux\"\n",
    "print ( ma_liste )\n",
    "print ( mon_autre_liste )"
   ]
  },
  {
   "cell_type": "markdown",
   "metadata": {},
   "source": [
    "<img src=\"http://www.python-course.eu/images/deep_copy_detailed7.png\" alt=\"Drawing\" style=\"width: 600px;\"/>"
   ]
  },
  {
   "cell_type": "markdown",
   "metadata": {},
   "source": [
    "# Exception: try to catch me\n",
    "\n",
    "Une exception, c'est ce qui est \"lancer\" (**raise**) quand il y a un soucis et qu'il faut absoluer attraper (**except**) sinon le programme il plante !!!\n"
   ]
  },
  {
   "cell_type": "code",
   "execution_count": null,
   "metadata": {},
   "outputs": [],
   "source": [
    "import sys\n",
    "\n",
    "try:\n",
    "    f = open(\"Python_101_X.txt\")\n",
    "# except OSError as err:\n",
    "#     print(\"OS erreur: {0}\".format(err))\n",
    "except:\n",
    "    print(\"Oh merda:\", sys.exc_info()[0])\n",
    "    raise\n",
    "finally: \n",
    "    print(\"Bye Bye\")\n",
    "    \n",
    "    "
   ]
  },
  {
   "cell_type": "markdown",
   "metadata": {},
   "source": [
    "# TDD: Test Driven Development"
   ]
  },
  {
   "cell_type": "code",
   "execution_count": null,
   "metadata": {
    "collapsed": true
   },
   "outputs": [],
   "source": []
  }
 ],
 "metadata": {
  "kernelspec": {
   "display_name": "Python 3",
   "language": "python",
   "name": "python3"
  },
  "language_info": {
   "codemirror_mode": {
    "name": "ipython",
    "version": 3
   },
   "file_extension": ".py",
   "mimetype": "text/x-python",
   "name": "python",
   "nbconvert_exporter": "python",
   "pygments_lexer": "ipython3",
   "version": "3.5.2"
  }
 },
 "nbformat": 4,
 "nbformat_minor": 2
}
