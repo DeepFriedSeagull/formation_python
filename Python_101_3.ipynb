{
 "cells": [
  {
   "cell_type": "markdown",
   "metadata": {},
   "source": [
    "# Comment utliser python avec des fichiers (ie pas dans l'interpréteur)\n",
    "\n",
    "Mettre toute ses fonctions dans un/plusieurs fichiers\n",
    "\n",
    "Ajouter à la fin:\n",
    "```python\n",
    "if __name__ == \"__main__\":\n",
    "    # appeller ma function principalle\n",
    "    main()\n",
    "```\n",
    "Dans un terminal, executer:\n",
    ">python monprogramme.py\n",
    "\n",
    "# Comment installer des lib locales à un projet\n",
    "\n",
    "virtualenv *nomdemonenvironment*\n",
    "nomdemonenvironment\\Scripts\\activate\n",
    "\n",
    "Le prompt doit changer (ie avec le nomdemonenvironment) et mnt tout les pacquet installer le seront **localement**\n",
    "\n",
    "pip install requests\n",
    "\n",
    "# Comment utiliser des Modules // Packages\n",
    "\n",
    "import requests\n",
    "\n",
    "\n",
    "# HTTP  & Debugage Chrome\n",
    "* arguments \n",
    "> https://www.google.fr/search?q=dfds&ie=UTF-8"
   ]
  }
 ],
 "metadata": {
  "kernelspec": {
   "display_name": "Python 3",
   "language": "python",
   "name": "python3"
  },
  "language_info": {
   "codemirror_mode": {
    "name": "ipython",
    "version": 3
   },
   "file_extension": ".py",
   "mimetype": "text/x-python",
   "name": "python",
   "nbconvert_exporter": "python",
   "pygments_lexer": "ipython3",
   "version": "3.5.2"
  }
 },
 "nbformat": 4,
 "nbformat_minor": 2
}
