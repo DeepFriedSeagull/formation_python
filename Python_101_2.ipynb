{
 "cells": [
  {
   "cell_type": "markdown",
   "metadata": {},
   "source": [
    "# Functions\n",
    "\n",
    "La base pour réutiliser et organiser du code.\n",
    "Definition avec le mot cléf **def** et **l'indentation** définie la fin de celle-ci."
   ]
  },
  {
   "cell_type": "code",
   "execution_count": null,
   "metadata": {},
   "outputs": [],
   "source": [
    "def ma_fonction():\n",
    "    print('\\tYo ')\n",
    "\n",
    "for i in range(5):\n",
    "    ma_fonction()\n",
    "    \n",
    "print('Fini')"
   ]
  },
  {
   "cell_type": "markdown",
   "metadata": {},
   "source": [
    "Les fonctions peuvent **recevoir** des arguments et peut **retourner** des résultats (zéro, un ou plusieurs)"
   ]
  },
  {
   "cell_type": "code",
   "execution_count": null,
   "metadata": {},
   "outputs": [],
   "source": [
    "def ma_fonction(input):\n",
    "    print('\\tYo '+str(input))\n",
    "    return input\n",
    "\n",
    "culm = 0\n",
    "for i in range(5):\n",
    "    culm = ma_fonction( culm + i)\n",
    "    \n",
    "print('Fini')"
   ]
  },
  {
   "cell_type": "code",
   "execution_count": null,
   "metadata": {},
   "outputs": [],
   "source": [
    "def split_list_in_half(input_list):\n",
    "    half_idx = int(len(input_list) / 2)\n",
    "    return input_list[:half_idx], input_list[half_idx:]\n",
    "    \n",
    "liste=['1','2','3','4','5','6']\n",
    "split_list_in_half(liste)"
   ]
  },
  {
   "cell_type": "code",
   "execution_count": null,
   "metadata": {},
   "outputs": [],
   "source": [
    "def join_str(str1, str2, str3):\n",
    "    return str1+str2+str3\n",
    "\n",
    "print( join_str( 'Bla','Bli', 'Blo'))"
   ]
  },
  {
   "cell_type": "markdown",
   "metadata": {},
   "source": [
    "Normalement, l'ordre des paramètres est *méga* important lors de l'appel. \n",
    "\n",
    "Il est possible de les **només** lors de l'appel, de définir leur valeur **par défaut** à la définition et d'en avoir un nombre **non-défini**."
   ]
  },
  {
   "cell_type": "code",
   "execution_count": null,
   "metadata": {},
   "outputs": [],
   "source": [
    "print( join_str( str2='Bla', str3='Bli', str1='Blo'))"
   ]
  },
  {
   "cell_type": "code",
   "execution_count": null,
   "metadata": {},
   "outputs": [],
   "source": [
    "def create_new_customer(firstname, surename, age=69, country='France' ):\n",
    "    return {'firstname':firstname,'surename':surename, 'age':age, 'country':country}\n",
    "\n",
    "create_new_customer(\"Manu\",\"Chao\")"
   ]
  },
  {
   "cell_type": "code",
   "execution_count": null,
   "metadata": {},
   "outputs": [],
   "source": [
    "# On peut utliser le unpacking *\n",
    "c1=['Manuel','Chiao']\n",
    "create_new_customer(*c1)"
   ]
  },
  {
   "cell_type": "code",
   "execution_count": null,
   "metadata": {},
   "outputs": [],
   "source": [
    "# Et aussi ** il faut que les clef correspondent exactement au nom des paramètre\n",
    "c2={'age': 33, 'country': 'US', 'firstname': 'Tintin', 'surename': 'Milou'}\n",
    "create_new_customer(**c2)"
   ]
  },
  {
   "cell_type": "code",
   "execution_count": null,
   "metadata": {},
   "outputs": [],
   "source": [
    "# A l'inverse on s'en sert créer des fonction avec un nombre de paramètre inconnu..\n",
    "#kwargs: keywords arguments\n",
    "\n",
    "def create_customer_with_named_extra(firstname, surename, **kwargs):\n",
    "    print('Creating {0} {1} with extras:'.format(firstname, surename) )\n",
    "    for name, value in kwargs.items():\n",
    "        print( '{0} = {1}'.format(name, value))\n",
    "\n",
    "# Lors de l'appel, on nome les argument sans quotes et on utilise le signe =\n",
    "create_customer_with_named_extra(\"Simon\",\"Bell\", eye_color='bleu', age=43, dead=False )"
   ]
  },
  {
   "cell_type": "code",
   "execution_count": null,
   "metadata": {},
   "outputs": [],
   "source": [
    "# On peut aussi unpacker un dictionnaire :) plus simple !!\n",
    "extra={'eye_color': 'bleu', 'age':43, 'dead':False}\n",
    "create_customer_with_named_extra(\"Simon\",\"Bell\", **extra)\n",
    "        "
   ]
  },
  {
   "cell_type": "markdown",
   "metadata": {},
   "source": []
  }
 ],
 "metadata": {
  "kernelspec": {
   "display_name": "Python 3",
   "language": "python",
   "name": "python3"
  },
  "language_info": {
   "codemirror_mode": {
    "name": "ipython",
    "version": 3
   },
   "file_extension": ".py",
   "mimetype": "text/x-python",
   "name": "python",
   "nbconvert_exporter": "python",
   "pygments_lexer": "ipython3",
   "version": "3.5.2"
  }
 },
 "nbformat": 4,
 "nbformat_minor": 2
}
