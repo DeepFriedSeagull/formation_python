{
 "cells": [
  {
   "cell_type": "markdown",
   "metadata": {},
   "source": [
    "# Next time(s)\n",
    "\n",
    "* Fonctions\n",
    "* Classes\n",
    "* Modules / Packages\n",
    "* List: sort, filter map\n",
    "* String manipulation\n",
    "* Lambda expressions\n",
    "* Data manipulation libs: xml/json\n",
    "* Elastic Search\n",
    "* Apps Framework: Flask / Django"
   ]
  },
  {
   "cell_type": "markdown",
   "metadata": {},
   "source": [
    "## *Instance* attributes vs *Class* attributes\n",
    "http://www.python-course.eu/python3_class_and_instance_attributes.php\n",
    "\n",
    "jusqu'à mnt nous avons utilisé le keyword **self** ce qui *lie* les methodes/attributs à l'**instance** d'une classe."
   ]
  },
  {
   "cell_type": "code",
   "execution_count": null,
   "metadata": {
    "collapsed": true
   },
   "outputs": [],
   "source": [
    "print(student1.age)\n",
    "print(student2.age)\n",
    "print(student3.age)"
   ]
  },
  {
   "cell_type": "code",
   "execution_count": null,
   "metadata": {
    "collapsed": true
   },
   "outputs": [],
   "source": [
    "# Si on change l'age d'une instance les autres reste les mêmes\n",
    "student3.age = 5\n",
    "print(student1.age)\n",
    "print(student2.age)\n",
    "print(student3.age)"
   ]
  },
  {
   "cell_type": "code",
   "execution_count": null,
   "metadata": {
    "collapsed": true
   },
   "outputs": [],
   "source": [
    "# Exemple de Class Attributes\n",
    "class Teacher:\n",
    "    school = \"University of Py\" # <= Class attribute partagé par tout les instances\n",
    "    \n",
    "    def __init__(self, name):\n",
    "        self.__sir_name = name  # <= instance private attribute\n",
    "        self.age = 45           # <= instance attribute\n",
    "    \n",
    "    def get_name(self):\n",
    "        return self.__sir_name\n",
    "    \n",
    "    def set_name(self, new_name):\n",
    "        self.__sir_name = new_name\n",
    "    \n",
    "    def print(self):\n",
    "        print('My name is Pr. {0} {1}yo from {2}'.format(self.__sir_name,self.age, self.school))\n",
    "        \n",
    "print('====================')\n",
    "t1 = Teacher('Paul')\n",
    "t2 = Teacher('Simon')\n",
    "t1.print()\n",
    "t2.print()\n",
    "print( t1.__dict__)\n",
    "print( t2.__dict__)"
   ]
  },
  {
   "cell_type": "code",
   "execution_count": null,
   "metadata": {
    "collapsed": true
   },
   "outputs": [],
   "source": [
    "print('====================')\n",
    "t2.school = \"University of Pie\"\n",
    "t1.print()\n",
    "t2.print()\n",
    "print( t1.__dict__)\n",
    "print( t2.__dict__)"
   ]
  },
  {
   "cell_type": "code",
   "execution_count": null,
   "metadata": {
    "collapsed": true
   },
   "outputs": [],
   "source": [
    "print('====================')\n",
    "Teacher.school=\"University of Paille\"\n",
    "t3 = Teacher(\"Abha\")\n",
    "t1.print()\n",
    "t2.print()\n",
    "t3.print()\n",
    "print( t1.__dict__)\n",
    "print( t2.__dict__)\n",
    "print( t3.__dict__)"
   ]
  },
  {
   "cell_type": "code",
   "execution_count": null,
   "metadata": {
    "collapsed": true
   },
   "outputs": [],
   "source": [
    "print('====================')\n",
    "print(t3.__class__.__dict__)\n",
    "print(Teacher.__dict__)"
   ]
  },
  {
   "cell_type": "markdown",
   "metadata": {},
   "source": [
    "# Static Methods, Class Methods"
   ]
  },
  {
   "cell_type": "markdown",
   "metadata": {},
   "source": [
    "Courage c'est pas mega simple ...\n",
    "\n",
    "Que ce passe t'il si on étant cela au methodes"
   ]
  },
  {
   "cell_type": "code",
   "execution_count": null,
   "metadata": {
    "collapsed": true
   },
   "outputs": [],
   "source": [
    "# Essai 1 -- PAS vraiment correct\n",
    "\n",
    "class Bar:\n",
    "    # Class attribute\n",
    "    __nbr_bar = 0             # <= class atribute partagé entre tous\n",
    "    \n",
    "    def __init__(self, name):\n",
    "        self.__sir_name = name\n",
    "        Bar.__nbr_bar += 1    # On modifie bien le class attribute!   autre écriture possible : type(self).__nbr_bar += 1\n",
    "    \n",
    "    def NombreInstances():    # pas de self\n",
    "        return Bar.__nbr_bar\n",
    "\n",
    "b1 = Bar(\"Apollo\")\n",
    "b2 = Bar(\"Dicken's\")\n",
    "print(Bar.NombreInstances())"
   ]
  },
  {
   "cell_type": "code",
   "execution_count": null,
   "metadata": {
    "collapsed": true
   },
   "outputs": [],
   "source": [
    "print(b2.NombreInstances())"
   ]
  },
  {
   "cell_type": "markdown",
   "metadata": {},
   "source": [
    "**var**.nom_de_methode() est converti en appel à *Class*.nom_de_methode(**var**) d'ou le message d'erreur:\n",
    "\n",
    "    \"NombreInstances() takes 0 positional arguments but 1 was given\"\n",
    "\n",
    "Dans notre example, nous pouvons donc appeler la méthode au niveau de la classe mais pas à l'instance => c'est pas méga pratique ...\n"
   ]
  },
  {
   "cell_type": "code",
   "execution_count": null,
   "metadata": {
    "collapsed": true
   },
   "outputs": [],
   "source": [
    "# Essai 2: Les Methodes Statiques\n",
    "class Bar2:\n",
    "    # Class attribute\n",
    "    __nbr_bar = 0\n",
    "    \n",
    "    def __init__(self, name):\n",
    "        self.__sir_name = name\n",
    "        type(self).__nbr_bar += 1  # On modifie bien le class attribute!\n",
    "    \n",
    "    @staticmethod  # on definit la methode en static\n",
    "    def NombreInstances():  # <= Pas de self\n",
    "        return Bar2.__nbr_bar\n",
    "\n",
    "# Avant même une création\n",
    "print(Bar2.NombreInstances())\n",
    "b3=Bar2(\"La zone du dehors\")\n",
    "b4=Bar2(\"Broue-Pub\")\n",
    "# Appel à partir de la Classe\n",
    "print(Bar2.NombreInstances())\n",
    "# Appel à partir d'une instance\n",
    "print(b4.NombreInstances())\n",
    "print('C\\'est cool cela fonctionne')"
   ]
  },
  {
   "cell_type": "code",
   "execution_count": null,
   "metadata": {
    "collapsed": true
   },
   "outputs": [],
   "source": [
    "# Essai 3\n",
    "class Bar3():\n",
    "    # Class attribute\n",
    "    __nbr_bar = 0\n",
    "    \n",
    "    def __init__(self, name):\n",
    "        self.__sir_name = name\n",
    "        type(self).__nbr_bar += 1  # On modifie bien le class attribute!\n",
    "    \n",
    "    @classmethod  # on definit la methode en \"class method\"\n",
    "    def NombreInstances(cls):      # <= Pas de self mais cls -- cls veut dire Classe\n",
    "        return Bar3.__nbr_bar      # On pourrai même écrire return cls.__nbr_bar\n",
    "    \n",
    "# Avant même une création\n",
    "print(Bar3.NombreInstances())\n",
    "b5=Bar3(\"Le pavillon noir\")\n",
    "b6=Bar3(\"Chez Fred\")\n",
    "# Appel à partir de la Classe\n",
    "print(Bar3.NombreInstances())\n",
    "# Appel à partir d'une instance\n",
    "print(b6.NombreInstances())"
   ]
  },
  {
   "cell_type": "markdown",
   "metadata": {},
   "source": [
    "# Static Methods vs Class Methods, c'est quoi la différence??\n",
    "\n",
    "> Static methods shouldn't be confused with class methods. Like *static methods*; *class methods* are not bound to instances, but unlike static methods class methods are bound to a class. The first parameter of a class method is a reference to a class, i.e. a class object. They can be called via an instance or the class name."
   ]
  },
  {
   "cell_type": "markdown",
   "metadata": {
    "collapsed": true
   },
   "source": [
    "**_** has 3 main conventional uses in Python:\n",
    "\n",
    "1. To hold the result of the last executed statement in an interactive interpreter session. This precedent was set by the standard CPython interpreter, and other interpreters have followed suit\n",
    "2. For translation lookup in i18n (see the gettext documentation for example), as in code like: raise forms.ValidationError(_(\"Please enter a correct username\"))\n",
    "3. As a general purpose \"throwaway\" variable name to indicate that part of a function result is being deliberately ignored, as in code like: label, has_label, _ = text.partition(':')\n",
    "> The latter two purposes can conflict, so it is necessary to avoid using _ as a throwaway variable in any code block that also uses it for i18n translation (many folks prefer a double-underscore, __, as their throwaway variable for exactly this reason).\n",
    "\n"
   ]
  }
 ],
 "metadata": {
  "kernelspec": {
   "display_name": "Python 3",
   "language": "python",
   "name": "python3"
  },
  "language_info": {
   "codemirror_mode": {
    "name": "ipython",
    "version": 3
   },
   "file_extension": ".py",
   "mimetype": "text/x-python",
   "name": "python",
   "nbconvert_exporter": "python",
   "pygments_lexer": "ipython3",
   "version": "3.5.2"
  }
 },
 "nbformat": 4,
 "nbformat_minor": 2
}
