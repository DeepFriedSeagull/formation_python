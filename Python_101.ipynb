{
 "cells": [
  {
   "cell_type": "markdown",
   "metadata": {},
   "source": [
    "[Référence Markdown](https://github.com/adam-p/markdown-here/wiki/Markdown-Cheatsheet)\n",
    "\n",
    "# Variables: mumeric, Str, Boolean\n",
    "## numeric"
   ]
  },
  {
   "cell_type": "code",
   "execution_count": null,
   "metadata": {},
   "outputs": [],
   "source": [
    "# Commentaire avec #\n",
    "# Pas de types à définir et pas de mot clé\n",
    "mavariable1 = 23\n",
    "mavariable2 = 24\n",
    "\n",
    "# print est une \"Buit-In\" Function https://docs.python.org/3/library/functions.htm\n",
    "print (mavariable1+mavariable2)"
   ]
  },
  {
   "cell_type": "code",
   "execution_count": null,
   "metadata": {},
   "outputs": [],
   "source": [
    "# Pour les nombres il existe 3 types de nombres : int(entier), float(à virgule), complex(partie réel et imaginaire)\n",
    "mavariable3 = 34.43243\n",
    "print( mavariable3+64 ) #flaot+int=float\n",
    "\n",
    "# Comme en math, y a un ordre dans les opérations\n",
    "print(5*2-1)\n",
    "print(5*(2-1))"
   ]
  },
  {
   "cell_type": "code",
   "execution_count": null,
   "metadata": {},
   "outputs": [],
   "source": [
    "# * / + -  +=  et **(à la puissance)\n",
    "mavariable1 += 10\n",
    "print (mavariable1)\n",
    "print (3**3)\n",
    "print (int(9**0.5))"
   ]
  },
  {
   "cell_type": "code",
   "execution_count": null,
   "metadata": {},
   "outputs": [],
   "source": [
    "## int\n",
    "print (int(3.4))"
   ]
  },
  {
   "cell_type": "markdown",
   "metadata": {},
   "source": [
    "## str: le type text"
   ]
  },
  {
   "cell_type": "code",
   "execution_count": null,
   "metadata": {},
   "outputs": [],
   "source": [
    "## Le type texte (string / text sequence / str)\n",
    "varstr1 = '* single quotes avec des double \"\" dedans '\n",
    "varstr2 = \"* double quotes avec des simples '' dedans\"\n",
    "varstr3 = '''* triples quotes \n",
    "avec \"\" dedans \n",
    "avec '' dedans\n",
    "sur plusieur lignes'''\n",
    "print(varstr1)\n",
    "print(varstr2)\n",
    "print(varstr3)"
   ]
  },
  {
   "cell_type": "code",
   "execution_count": null,
   "metadata": {},
   "outputs": [],
   "source": [
    "# format est pratique pour mettre en forme\n",
    "varnombre = 42\n",
    "print( 'Le resutat à la questions est {0}'.format(varnombre))"
   ]
  },
  {
   "cell_type": "code",
   "execution_count": null,
   "metadata": {},
   "outputs": [],
   "source": [
    "# \\ est la séquence d'escape pour les caractères spéciaux\n",
    "print('Avec simple quote il faut \\'bien\\' escaper les quotes sinon python ne sait pas où finir')"
   ]
  },
  {
   "cell_type": "code",
   "execution_count": null,
   "metadata": {},
   "outputs": [],
   "source": [
    "print('Il faut aussi escaper les \\'\\\\\\' si on veut les inclure dans un print')"
   ]
  },
  {
   "cell_type": "code",
   "execution_count": null,
   "metadata": {},
   "outputs": [],
   "source": [
    "print('on peut aussi\\ttabuler\\nrevenir à la ligne\\net plus')"
   ]
  },
  {
   "cell_type": "markdown",
   "metadata": {},
   "source": [
    "str est super puissant pr manipuler facilement de la data et du texte, on vas y revenir par la suite..."
   ]
  },
  {
   "cell_type": "markdown",
   "metadata": {},
   "source": [
    "## boolean"
   ]
  },
  {
   "cell_type": "code",
   "execution_count": null,
   "metadata": {},
   "outputs": [],
   "source": [
    "## Boolean  True,False  \n",
    "print ( '23==25 returns {0}'.format(23==25) )\n",
    "print ( '23<=23 returns {0}'.format(23<=23) )"
   ]
  },
  {
   "cell_type": "code",
   "execution_count": null,
   "metadata": {},
   "outputs": [],
   "source": [
    "## Est considéré comme False: https://docs.python.org/3/library/stdtypes.html#truth-value-testing\n",
    "print ('not 0 returns {0}'.format(not 0))\n",
    "print ('not None returns {0}'.format(not None))\n",
    "print ('not \\'\\' returns {0}'.format(not ''))"
   ]
  },
  {
   "cell_type": "markdown",
   "metadata": {},
   "source": [
    "# Conditionnal Statement & Loop\n",
    "\n",
    "Il exite 3 principaux blocs conditionnel et de boucles: **if**, **while**, **for**.\n",
    "\n",
    "Python utilse l'indentation (tab ou espace) pour définir le début des blocs et surtout leur fin. C'est assez unique, la plupart des languages utilisent des crochets ou parenthèese pr cela **{ }**. Il faut donc vérifier que son éditeur de texte soit bien configurer ... sinon nous risquons d'avoir l'erreur suivant:\n",
    "**TabError: inconsistent use of tabs and spaces in indentation**\n",
    "\n",
    "Ne pas oublier les deux points **:** au début du test/boucle/début de bloque"
   ]
  },
  {
   "cell_type": "code",
   "execution_count": null,
   "metadata": {},
   "outputs": [],
   "source": [
    "# Test if <cond> :\n",
    "macondition = True\n",
    "if macondition:  # Equivaut au test \"macondition is True\"\n",
    "    print ('Ma condition est vrai')"
   ]
  },
  {
   "cell_type": "code",
   "execution_count": null,
   "metadata": {},
   "outputs": [],
   "source": [
    "# Test si la condition est fause\n",
    "macondition = 4==5\n",
    "if macondition:\n",
    "    print ('Les mathématique ont changé reccement depuis l\\'éléction de Macron')\n",
    "else:\n",
    "    print ('Le monde tourne encore rond')\n",
    "print('Pour l\\'instant')\n",
    "    "
   ]
  },
  {
   "cell_type": "markdown",
   "metadata": {},
   "source": [
    "Attention quand tu copies du code depuis internet... souvent l'indentation y est different que notre convention. La norme: utiliser l'espace à la place de tab. avec une tabulation = 4 espace."
   ]
  },
  {
   "cell_type": "code",
   "execution_count": null,
   "metadata": {},
   "outputs": [],
   "source": [
    "# Test tant que condition vrai faire ...\n",
    "mavar = 5\n",
    "while mavar > 0:\n",
    "    print (mavar)\n",
    "    mavar -= 1\n",
    "print('Fin')"
   ]
  },
  {
   "cell_type": "code",
   "execution_count": null,
   "metadata": {},
   "outputs": [],
   "source": [
    "# Boucle Pour <var> dans <Liste>\n",
    "listejours=['Lundi','Mardi','Jeudi']\n",
    "for jour in listejours:\n",
    "    print('\\t'+jour)  #Le text peut s'ajouter --\n",
    "print('Fin')"
   ]
  },
  {
   "cell_type": "markdown",
   "metadata": {},
   "source": [
    "# Collections\n",
    "## List"
   ]
  },
  {
   "cell_type": "code",
   "execution_count": null,
   "metadata": {},
   "outputs": [],
   "source": [
    "maliste = ['synopsize','million','redstone','obelized','germanium','embarrassingly','vardon',\n",
    "           'ventriloquistic','bluet','reillustrate']\n",
    "#nombre d'élément\n",
    "print(len(maliste))"
   ]
  },
  {
   "cell_type": "code",
   "execution_count": null,
   "metadata": {},
   "outputs": [],
   "source": [
    "# On commence à compter les indexes à partir de 0\n",
    "print (maliste[0])\n",
    "print (maliste[9])"
   ]
  },
  {
   "cell_type": "code",
   "execution_count": null,
   "metadata": {},
   "outputs": [],
   "source": [
    "# On peut utiliser des indexs négatif pour l'autre bout de la liste\n",
    "print (maliste[-1])\n",
    "print (maliste[-2])"
   ]
  },
  {
   "cell_type": "code",
   "execution_count": null,
   "metadata": {},
   "outputs": [],
   "source": [
    "# Un peu de brain-grinding\n",
    "print (maliste[-len(maliste)])"
   ]
  },
  {
   "cell_type": "code",
   "execution_count": null,
   "metadata": {},
   "outputs": [],
   "source": [
    "# Attention aux IndexError ... faut pas aller trop loin\n",
    "print (maliste[11])"
   ]
  },
  {
   "cell_type": "code",
   "execution_count": null,
   "metadata": {
    "collapsed": true
   },
   "outputs": [],
   "source": [
    "# On peut faire des sous-liste  liste[debut_idx:fin_idx]\n",
    "maliste2 = maliste[1:3] # Index 1=>3 non inclus\n",
    "print( maliste2)"
   ]
  },
  {
   "cell_type": "code",
   "execution_count": null,
   "metadata": {
    "collapsed": true
   },
   "outputs": [],
   "source": [
    "# On combine tous cela\n",
    "print (maliste[2:-2])"
   ]
  },
  {
   "cell_type": "code",
   "execution_count": null,
   "metadata": {
    "collapsed": true
   },
   "outputs": [],
   "source": [
    "# On peut aussi simplement spécifier un seul index et prendre tout le reste (avant ou après)\n",
    "print (maliste[2:])\n",
    "print (maliste[:-1]) "
   ]
  },
  {
   "cell_type": "markdown",
   "metadata": {},
   "source": [
    "**Toutes ces opérations sur les listes fonctionnent aussi sur les str :)** (en fait sur toutes \"sequence\""
   ]
  },
  {
   "cell_type": "code",
   "execution_count": null,
   "metadata": {
    "collapsed": true
   },
   "outputs": [],
   "source": [
    "montext =\"abcdefghijklmnopqrstuvwxyz\"\n",
    "print( len(montext) )\n",
    "print( montext[2] )\n",
    "print( montext[2:5] )\n",
    "print( montext[-3:])"
   ]
  },
  {
   "cell_type": "code",
   "execution_count": null,
   "metadata": {},
   "outputs": [],
   "source": [
    "# Str variables sont \"immutable\" cad on ne peut pas les changer\n",
    "montext[0]='A'"
   ]
  },
  {
   "cell_type": "code",
   "execution_count": null,
   "metadata": {
    "scrolled": true
   },
   "outputs": [],
   "source": [
    "# On peut joindre / additionner les listes\n",
    "liste1=['a','b','c','d','e']\n",
    "liste2=['1','2','3','4','5']\n",
    "\n",
    "print( liste1+liste2 )"
   ]
  },
  {
   "cell_type": "code",
   "execution_count": null,
   "metadata": {},
   "outputs": [],
   "source": [
    "# On peut ajouter avec append\n",
    "liste1.append('f')\n",
    "print ( liste1 )"
   ]
  },
  {
   "cell_type": "markdown",
   "metadata": {},
   "source": [
    "**Une fonction super sympa: range()**"
   ]
  },
  {
   "cell_type": "code",
   "execution_count": null,
   "metadata": {},
   "outputs": [],
   "source": [
    "list(range(5))"
   ]
  },
  {
   "cell_type": "code",
   "execution_count": null,
   "metadata": {},
   "outputs": [],
   "source": [
    "for i in range(5): # range est la façon la plus simple de boucler sur des entiers (assez bizzare comparere à d'autre language)\n",
    "    print ('\\t'+str(i))  # i étant un nombre il faut d'abord le convertir en text avec str\n",
    "print ('Fini')\n"
   ]
  },
  {
   "cell_type": "markdown",
   "metadata": {},
   "source": [
    "## Dictionary\n",
    "\n",
    "Super utiliser dans la data surtout avec le format JSON=Dict+List"
   ]
  },
  {
   "cell_type": "code",
   "execution_count": null,
   "metadata": {},
   "outputs": [],
   "source": [
    "# Built-in type, associatif  list de Cléf-> valeur\n",
    "personne1 = {'nom':'Manu', 'age': 34 }\n",
    "personne2 = { 'nom':'Léo', 'age': 8, 'parent': personne1}\n",
    "print( personne1['nom'])\n",
    "print( personne2['parent']['age'])"
   ]
  },
  {
   "cell_type": "code",
   "execution_count": null,
   "metadata": {},
   "outputs": [],
   "source": [
    "# Liste des Cléfs / Valeurs \n",
    "list(personne2.keys())\n",
    "list(personne2.values())"
   ]
  },
  {
   "cell_type": "code",
   "execution_count": null,
   "metadata": {},
   "outputs": [],
   "source": [
    "#List des elemetns\n",
    "list(personne2.items())"
   ]
  },
  {
   "cell_type": "markdown",
   "metadata": {},
   "source": [
    "## Sets"
   ]
  },
  {
   "cell_type": "code",
   "execution_count": null,
   "metadata": {},
   "outputs": [],
   "source": [
    "# Set sont des collection d'object **UNIQUE**, pas forcement ordoné\n",
    "places_de_bordeaux={'Saint-Pierre','Gambetta','Victoire'}\n",
    "print( places_de_bordeaux )"
   ]
  },
  {
   "cell_type": "code",
   "execution_count": null,
   "metadata": {},
   "outputs": [],
   "source": [
    "# Test pour appartenance\n",
    "if 'Maucaillou' in places_de_bordeaux:\n",
    "    print ('Liste compléte')\n",
    "else:\n",
    "    print ('Liste imcomplète')"
   ]
  },
  {
   "cell_type": "code",
   "execution_count": null,
   "metadata": {},
   "outputs": [],
   "source": [
    "places_de_bordeaux2={'Maucaillou','Victoire','Pey berland'}\n",
    "\n",
    "# Union de sets\n",
    "print( places_de_bordeaux | places_de_bordeaux2)"
   ]
  },
  {
   "cell_type": "code",
   "execution_count": null,
   "metadata": {},
   "outputs": [],
   "source": [
    "# Dans les deux sets\n",
    "print( places_de_bordeaux & places_de_bordeaux2)"
   ]
  },
  {
   "cell_type": "code",
   "execution_count": null,
   "metadata": {},
   "outputs": [],
   "source": [
    "# Dans A mais pas B\n",
    "print( places_de_bordeaux - places_de_bordeaux2)"
   ]
  },
  {
   "cell_type": "code",
   "execution_count": null,
   "metadata": {},
   "outputs": [],
   "source": [
    "# A ou B mais pas les deux\n",
    "print( places_de_bordeaux ^ places_de_bordeaux2)"
   ]
  },
  {
   "cell_type": "markdown",
   "metadata": {},
   "source": [
    "## Tuples"
   ]
  },
  {
   "cell_type": "code",
   "execution_count": null,
   "metadata": {},
   "outputs": [],
   "source": [
    "matuple='bla','blo','blu'\n",
    "print(matuple)"
   ]
  },
  {
   "cell_type": "code",
   "execution_count": null,
   "metadata": {},
   "outputs": [],
   "source": [
    "# Tuples sont aussi \"immutable\" comme les str\n",
    "matuple[1]='bli'"
   ]
  },
  {
   "cell_type": "code",
   "execution_count": null,
   "metadata": {},
   "outputs": [],
   "source": [
    "# On peut aussi définir avec les parenthèses\n",
    "matuple2=('sfdsd','fgfdgf','gffdghh')\n",
    "print(matuple2)"
   ]
  },
  {
   "cell_type": "code",
   "execution_count": null,
   "metadata": {
    "scrolled": true
   },
   "outputs": [],
   "source": [
    "# On peut avoir une tuple de liste ou une liste de tuple [La même chose avec les dictionnaires]\n",
    "tuple_de_liste = (['a','b'],[1,2])\n",
    "print(tuple_de_liste)\n",
    "liste_de_tuple = [('a','b'),(1,2)]\n",
    "print(liste_de_tuple)"
   ]
  },
  {
   "cell_type": "code",
   "execution_count": null,
   "metadata": {},
   "outputs": [],
   "source": [
    "# On peut zipper les listes\n",
    "list( zip(liste1,liste2) )"
   ]
  },
  {
   "cell_type": "markdown",
   "metadata": {},
   "source": [
    "# List comprehension\n",
    "\n",
    "Notation super bizzare \"à la python\" ... Idée: écrire de façon consice la  création de liste"
   ]
  },
  {
   "cell_type": "code",
   "execution_count": null,
   "metadata": {},
   "outputs": [],
   "source": [
    "cube=[]\n",
    "for c in range (5):\n",
    "    cube.append(c**3)\n",
    "cube"
   ]
  },
  {
   "cell_type": "code",
   "execution_count": null,
   "metadata": {},
   "outputs": [],
   "source": [
    "# De facon concise\n",
    "cube = [x**3 for x in range(5)]\n",
    "cube"
   ]
  },
  {
   "cell_type": "markdown",
   "metadata": {},
   "source": [
    "A list comprehension consists of brackets containing an expression followed by a for clause, then zero or more **for** or **if** clauses. The result will be a new list resulting from evaluating the expression in the context of the for and if clauses which follow it. \n",
    "\n",
    "** On peut imbriquer les boucles for&if**"
   ]
  },
  {
   "cell_type": "code",
   "execution_count": null,
   "metadata": {},
   "outputs": [],
   "source": [
    "# Comment Obtenir ['a','1','b','2','c','3','d','4','e','5']\n",
    "[y for x in zip(liste1,liste2) for y in x] # x represente une tuple et y chaque elt de celle-ci"
   ]
  },
  {
   "cell_type": "code",
   "execution_count": null,
   "metadata": {},
   "outputs": [],
   "source": [
    "# Set Comprehension\n",
    "a = {x for x in 'abracadabra' if x not in 'abc'}\n",
    "print( a)"
   ]
  },
  {
   "cell_type": "code",
   "execution_count": null,
   "metadata": {},
   "outputs": [],
   "source": [
    "# Dictionary comprehension\n",
    "{x: x**2 for x in (2, 4, 6)}"
   ]
  },
  {
   "cell_type": "markdown",
   "metadata": {},
   "source": [
    "C'est méga **puissant** mais assez **illisible** aussi ... Dés fois faut mieux 4/5 lignes de codes en plus pour augmenter la lisibilité/compréhension de ton code\n",
    "\n",
    "# Unpacking argument list\n",
    "\n",
    "Des fois on veut utiliser les valeur d'une liste comment argument d'une fonction"
   ]
  },
  {
   "cell_type": "code",
   "execution_count": null,
   "metadata": {},
   "outputs": [],
   "source": [
    "list(range(3,8))"
   ]
  },
  {
   "cell_type": "code",
   "execution_count": null,
   "metadata": {},
   "outputs": [],
   "source": [
    "arguments=[3,8]\n",
    "list(range(arguments))  # Erreur: range prends des entier en argument pas une lite"
   ]
  },
  {
   "cell_type": "code",
   "execution_count": null,
   "metadata": {},
   "outputs": [],
   "source": [
    "# unpacking in action\n",
    "list(range(*arguments))"
   ]
  },
  {
   "cell_type": "markdown",
   "metadata": {},
   "source": [
    "# Next time(s)\n",
    "\n",
    "* Fonctions\n",
    "* Classes\n",
    "* Modules / Packages\n",
    "* List: sort, filter map\n",
    "* String manipulation\n",
    "* Lambda expressions\n",
    "* Data manipulation libs: xml/json\n",
    "* Elastic Search\n",
    "* Apps Framework: Flask / Django"
   ]
  }
 ],
 "metadata": {
  "kernelspec": {
   "display_name": "Python 3",
   "language": "python",
   "name": "python3"
  },
  "language_info": {
   "codemirror_mode": {
    "name": "ipython",
    "version": 3
   },
   "file_extension": ".py",
   "mimetype": "text/x-python",
   "name": "python",
   "nbconvert_exporter": "python",
   "pygments_lexer": "ipython3",
   "version": "3.5.2"
  }
 },
 "nbformat": 4,
 "nbformat_minor": 2
}
