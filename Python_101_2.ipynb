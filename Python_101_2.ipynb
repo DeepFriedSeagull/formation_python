{
 "cells": [
  {
   "cell_type": "markdown",
   "metadata": {},
   "source": [
    "# Functions\n",
    "\n",
    "La base pour réutiliser et organiser du code.\n",
    "Definition avec le mot cléf **def** et **l'indentation** définie la fin de celle-ci."
   ]
  },
  {
   "cell_type": "code",
   "execution_count": null,
   "metadata": {},
   "outputs": [],
   "source": [
    "def ma_fonction():\n",
    "    print('\\tYo ')\n",
    "\n",
    "for i in range(5):\n",
    "    ma_fonction()\n",
    "    \n",
    "print('Fini')"
   ]
  },
  {
   "cell_type": "markdown",
   "metadata": {},
   "source": [
    "Les fonctions peuvent **recevoir** des arguments et peut **retourner** des résultats (zéro, un ou plusieurs)"
   ]
  },
  {
   "cell_type": "code",
   "execution_count": null,
   "metadata": {},
   "outputs": [],
   "source": [
    "def ma_fonction(input):\n",
    "    print('\\tYo '+str(input))\n",
    "    return input\n",
    "\n",
    "culm = 0\n",
    "for i in range(5):\n",
    "    culm = ma_fonction( culm + i)\n",
    "    \n",
    "print('Fini')"
   ]
  },
  {
   "cell_type": "code",
   "execution_count": null,
   "metadata": {},
   "outputs": [],
   "source": [
    "def split_list_in_half(input_list):\n",
    "    half_idx = int(len(input_list) / 2)\n",
    "    return input_list[:half_idx], input_list[half_idx:]\n",
    "    \n",
    "liste=['1','2','3','4','5','6']\n",
    "split_list_in_half(liste)"
   ]
  },
  {
   "cell_type": "code",
   "execution_count": null,
   "metadata": {},
   "outputs": [],
   "source": [
    "def join_str(str1, str2, str3):\n",
    "    return str1+str2+str3\n",
    "\n",
    "print( join_str( 'Bla','Bli', 'Blo'))"
   ]
  },
  {
   "cell_type": "markdown",
   "metadata": {},
   "source": [
    "Normalement, l'ordre des paramètres est *méga* important lors de l'appel. \n",
    "\n",
    "Il est possible de les **només** lors de l'appel, de définir leur valeur **par défaut** à la définition et d'en avoir un nombre **non-défini**."
   ]
  },
  {
   "cell_type": "code",
   "execution_count": null,
   "metadata": {},
   "outputs": [],
   "source": [
    "print( join_str( str2='Bla', str3='Bli', str1='Blo'))"
   ]
  },
  {
   "cell_type": "code",
   "execution_count": null,
   "metadata": {},
   "outputs": [],
   "source": [
    "def create_new_customer(firstname, surename, age=69, country='France' ):\n",
    "    return {'firstname':firstname,'surename':surename, 'age':age, 'country':country}\n",
    "\n",
    "create_new_customer(\"Manu\",\"Chao\")"
   ]
  },
  {
   "cell_type": "code",
   "execution_count": null,
   "metadata": {},
   "outputs": [],
   "source": [
    "# On peut utliser le unpacking *\n",
    "c1=['Manuel','Chiao']\n",
    "create_new_customer(*c1)"
   ]
  },
  {
   "cell_type": "code",
   "execution_count": null,
   "metadata": {},
   "outputs": [],
   "source": [
    "# Et aussi ** il faut que les clef correspondent exactement au nom des paramètre\n",
    "c2={'age': 33, 'country': 'US', 'firstname': 'Tintin', 'surename': 'Milou'}\n",
    "create_new_customer(**c2)"
   ]
  },
  {
   "cell_type": "code",
   "execution_count": null,
   "metadata": {},
   "outputs": [],
   "source": [
    "# A l'inverse on s'en sert créer des fonction avec un nombre de paramètre inconnu..\n",
    "#kwargs: keywords arguments\n",
    "\n",
    "def create_customer_with_named_extra(firstname, surename, **kwargs):\n",
    "    print('Creating {0} {1} with extras:'.format(firstname, surename) )\n",
    "    for name, value in kwargs.items():\n",
    "        print( '{0} = {1}'.format(name, value))\n",
    "\n",
    "# Lors de l'appel, on nome les argument sans quotes et on utilise le signe =\n",
    "create_customer_with_named_extra(\"Simon\",\"Bell\", eye_color='bleu', age=43, dead=False )"
   ]
  },
  {
   "cell_type": "code",
   "execution_count": null,
   "metadata": {},
   "outputs": [],
   "source": [
    "# On peut aussi unpacker un dictionnaire :) plus simple !!\n",
    "extra={'eye_color': 'bleu', 'age':43, 'dead':False}\n",
    "create_customer_with_named_extra(\"Simon\",\"Bell\", **extra)\n",
    "        "
   ]
  },
  {
   "cell_type": "markdown",
   "metadata": {},
   "source": [
    "# Classes\n",
    "\n",
    "Bon les fonctions c'est bien, mais les classes c'est **beaucoup** mieux.\n",
    "*Les classes, c'est la classe*™\n",
    "\n",
    "    Bien penser, définir et commenter ses classes c'est le début d'une bonne programmation objet™\n",
    " \n",
    "\n",
    "Les classes sont définies avec le mot-cléf **class** et utilisent tjrs l'indentation pour définir leur champ de définition.\n",
    "\n",
    "Les fonctions définies au sein d'une classe sont appelées **methodes**. Le premier argument de celle-ci **doit** être **self**.\n",
    "\n",
    "Les variables définies au sein d'une classe sont appelées **attributs**\n",
    "\n",
    "Le nom des classe est en **CamelCase**, le nom des méthodes et des functions sont en **lower_case_with_underscores**\n",
    "\n",
    "La méthode **\\_\\_init\\_\\_(self)** est appelé **constructor**. C'est la première méthode qui est appelé lorsque l'on **instancie** une classe (ie que l'on créé une variable de type MaClass)"
   ]
  },
  {
   "cell_type": "code",
   "execution_count": null,
   "metadata": {},
   "outputs": [],
   "source": [
    "class Student:\n",
    "    def __init__(self, name):\n",
    "        self.__realcrazyname = name\n",
    "        self.age = 25\n",
    "    \n",
    "    def get_name(self):\n",
    "        return self.__realcrazyname\n",
    "    \n",
    "    def set_name(self, new_name):\n",
    "        self.__realcrazyname = new_name \n",
    "    \n",
    "    def study(self):\n",
    "        print('Start Studying')\n",
    "        print('Stop Studying')\n",
    "    \n",
    "student1 = Student('Mike') # Instanciation\n",
    "print(student1.get_name())\n",
    "student1.set_name('Mike M&M')\n",
    "print(student1.get_name())\n",
    "student1.study()"
   ]
  },
  {
   "cell_type": "markdown",
   "metadata": {},
   "source": [
    "Les classes sont la base du concept d'**encapsulation**'.\n",
    "\n",
    "L'idée est de mettre dans une même boite (*classe*) toutes les informations et les opérations qui se ratachent à un même concept/sujet.\n",
    "\n",
    "Cette boîte expose des **methodes** qui permettent à l'utilisateur de manipuler les informations qu'elle contient. \n",
    "\n",
    "Seul ces méthodes donne accès aux données de la classes. Il est impossible pour l'utilisateur final de \"taper\" directement dedans. Cela permet de garantir la *sécurité* et l'*intégrité* des données. \n",
    "\n",
    "De plus, l'utilsateur ne ce souciet guère de savoir comment sont gérer en interne ces données. Tout le reste lui est caché, **volontairement.**\n",
    "\n",
    ">Encapsulation is an Object Oriented Programming concept that binds together the data and functions that manipulate the data, and that keeps both safe from outside interference and misuse. Data encapsulation led to the important OOP concept of data hiding.\n",
    "\n",
    "Bon, ça c'est la théorie, Python est plus que permissif dans ce concept comparé avec d'autre language.\n",
    "\n",
    "\n",
    "Effectivement, en rajoutant **__** au début d'une methode ou d'un attribut on le rend privé, mais il exite des moyens de contourner cela..."
   ]
  },
  {
   "cell_type": "code",
   "execution_count": null,
   "metadata": {
    "collapsed": true
   },
   "outputs": [],
   "source": [
    "student2 = Student('Paul')\n",
    "#student2.__realcrazyname\n"
   ]
  },
  {
   "cell_type": "code",
   "execution_count": null,
   "metadata": {},
   "outputs": [],
   "source": [
    "# name_mangling\n",
    "student2._Student__realcrazyname = 'Gottach Bitch!'\n",
    "print (student2.get_name())"
   ]
  },
  {
   "cell_type": "code",
   "execution_count": null,
   "metadata": {},
   "outputs": [],
   "source": [
    "# On peut même rajouter des attibuts \"live\"\n",
    "student2.sex = 'M'\n",
    "student2.sex\n",
    "# Pas très OOP pour moi ..."
   ]
  },
  {
   "cell_type": "markdown",
   "metadata": {},
   "source": [
    "## Héritage..\n",
    "\n",
    "Prémet de spécialiser certaines classes et de réutiliser du code.. Attention à ne pas abuser :)"
   ]
  },
  {
   "cell_type": "code",
   "execution_count": null,
   "metadata": {},
   "outputs": [],
   "source": [
    "class SuperStudent( Student) :\n",
    "    def __init__( self, name, nickname ):\n",
    "        super().__init__(name)\n",
    "        self.nickname = nickname\n",
    "\n",
    "student3 = SuperStudent( \"Yotoshi\", \"godzzz\")\n",
    "print (isinstance(student3, SuperStudent))\n",
    "print (issubclass(SuperStudent, Student))\n",
    "print (type(student3))  "
   ]
  },
  {
   "cell_type": "code",
   "execution_count": null,
   "metadata": {
    "scrolled": true
   },
   "outputs": [],
   "source": [
    "print(student3.__class__)\n",
    "dir(student3)"
   ]
  },
  {
   "cell_type": "code",
   "execution_count": null,
   "metadata": {},
   "outputs": [],
   "source": [
    "student3.__dict__"
   ]
  },
  {
   "cell_type": "markdown",
   "metadata": {},
   "source": [
    "## Class methods/attributes vs Instance methods/attributes"
   ]
  },
  {
   "cell_type": "code",
   "execution_count": null,
   "metadata": {},
   "outputs": [],
   "source": [
    "print(student1.age)\n",
    "print(student2.age)\n",
    "print(student3.age)"
   ]
  },
  {
   "cell_type": "code",
   "execution_count": null,
   "metadata": {},
   "outputs": [],
   "source": [
    "student3.age = 5\n",
    "print(student1.age)\n",
    "print(student2.age)\n",
    "print(student3.age)"
   ]
  },
  {
   "cell_type": "code",
   "execution_count": null,
   "metadata": {},
   "outputs": [],
   "source": [
    "class Teacher:\n",
    "    school = \"University of Py\"\n",
    "    \n",
    "    def __init__(self, name):\n",
    "        self.__sir_name = name\n",
    "        self.age = 45\n",
    "    \n",
    "    def get_name(self):\n",
    "        return self.__sir_name\n",
    "    \n",
    "    def set_name(self, new_name):\n",
    "        self.__sir_name = new_name\n",
    "    \n",
    "    def print(self):\n",
    "        print('My name is Pr. {0} {1}yo from {2}'.format(self.__sir_name,self.age, Teacher.school))\n",
    "        \n",
    "t1 = Teacher('Paul')\n",
    "t2 = Teacher('Simon')\n",
    "t1.print()\n",
    "t2.print()\n",
    "print('====================')\n",
    "print(dir(t2))\n",
    "print(t2.school)\n",
    "t2.age = 53\n",
    "t2.school = \"University of Pie\"\n",
    "t1.print()\n",
    "t2.print()"
   ]
  },
  {
   "cell_type": "markdown",
   "metadata": {
    "collapsed": true
   },
   "source": [
    "**_** has 3 main conventional uses in Python:\n",
    "\n",
    "1. To hold the result of the last executed statement in an interactive interpreter session. This precedent was set by the standard CPython interpreter, and other interpreters have followed suit\n",
    "2. For translation lookup in i18n (see the gettext documentation for example), as in code like: raise forms.ValidationError(_(\"Please enter a correct username\"))\n",
    "3. As a general purpose \"throwaway\" variable name to indicate that part of a function result is being deliberately ignored, as in code like: label, has_label, _ = text.partition(':')\n",
    "> The latter two purposes can conflict, so it is necessary to avoid using _ as a throwaway variable in any code block that also uses it for i18n translation (many folks prefer a double-underscore, __, as their throwaway variable for exactly this reason).\n",
    "\n"
   ]
  }
 ],
 "metadata": {
  "kernelspec": {
   "display_name": "Python 3",
   "language": "python",
   "name": "python3"
  },
  "language_info": {
   "codemirror_mode": {
    "name": "ipython",
    "version": 3
   },
   "file_extension": ".py",
   "mimetype": "text/x-python",
   "name": "python",
   "nbconvert_exporter": "python",
   "pygments_lexer": "ipython3",
   "version": "3.5.2"
  }
 },
 "nbformat": 4,
 "nbformat_minor": 2
}
