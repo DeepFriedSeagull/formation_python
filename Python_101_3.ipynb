{
 "cells": [
  {
   "cell_type": "markdown",
   "metadata": {},
   "source": [
    "# Comment utliser python avec des fichiers (ie pas dans l'interpréteur)\n",
    "\n",
    "Mettre toute ses fonctions dans un/plusieurs fichiers\n",
    "\n",
    "Ajouter à la fin:\n",
    "```python\n",
    "if __name__ == \"__main__\":\n",
    "    # appeller ma function principalle\n",
    "    main()\n",
    "```\n",
    "Dans un terminal, executer:\n",
    ">python monprogramme.py\n",
    "\n",
    "# Comment installer des lib locales à un projet\n",
    "\n",
    "virtualenv *nomdemonenvironment*\n",
    "nomdemonenvironment\\Scripts\\activate\n",
    "\n",
    "Le prompt doit changer (ie avec le nomdemonenvironment) et mnt tout les pacquet installer le seront **localement**\n",
    "\n",
    "pip install requests\n",
    "\n",
    "# Comment utiliser des Modules // Packages\n",
    "\n",
    "import requests\n",
    "\n",
    "http://docs.python-requests.org/en/master/\n",
    "\n",
    "\n",
    "\n",
    "# HTTP  & Debugage Chrome\n",
    "* arguments \n",
    "> https://www.google.fr/search?q=dfds&ie=UTF-8"
   ]
  },
  {
   "cell_type": "markdown",
   "metadata": {},
   "source": [
    "# Laisser l'utilisateur entrer des données à la console"
   ]
  },
  {
   "cell_type": "code",
   "execution_count": null,
   "metadata": {},
   "outputs": [],
   "source": [
    "nom = input(\"C'est quoi ton petit nom?\")\n",
    "print (\"Bonjour, mon p'tit {}.\".format(nom))"
   ]
  },
  {
   "cell_type": "markdown",
   "metadata": {},
   "source": [
    "# Ouvrir un fichier"
   ]
  },
  {
   "cell_type": "code",
   "execution_count": null,
   "metadata": {},
   "outputs": [],
   "source": [
    "fichier = open (\"Python_101_3.txt\", encoding=\"utf-8\")\n",
    "for ligne in fichier:\n",
    "    print( ligne )\n",
    "fichier.close()"
   ]
  },
  {
   "cell_type": "code",
   "execution_count": null,
   "metadata": {},
   "outputs": [],
   "source": [
    "# On trouve souvent ecrit comme cela .. le close sera appeler automatiquement\n",
    "with open (\"Python_101_3.txt\", encoding=\"utf-8\") as fichier:\n",
    "    for ligne in fichier:\n",
    "        print( ligne.lstrip() )  # left strip sur la chaine "
   ]
  },
  {
   "cell_type": "code",
   "execution_count": 6,
   "metadata": {},
   "outputs": [
    {
     "name": "stdout",
     "output_type": "stream",
     "text": [
      "['\\tMaître corbeau, sur un arbre perché,\\n', 'Tenait en son bec un fromage.\\n', \"\\tMaître renard, par l'odeur alléché,\\n\", 'Lui tint à peu près ce langage:']\n"
     ]
    }
   ],
   "source": [
    "# Ecriture dans un fichier\n",
    "# Mode r:read w:write +:pour ajouter au lieu de remplace\n",
    "with open (\"Python_101_3.txt\", encoding=\"utf-8\") as fichier_in, open (\"output.txt\", \"w\", encoding=\"utf-8\") as fichier_out:\n",
    "    fichier_out.write( fichier_in.read() )\n",
    "\n",
    "with open (\"output.txt\", \"r\", encoding=\"utf-8\") as fichier:\n",
    "    print ( fichier.readlines())"
   ]
  },
  {
   "cell_type": "markdown",
   "metadata": {},
   "source": [
    "# Espèce de Saumure, de Cornichon ou \"The right way to Pickle\"\n",
    "\n",
    "Pickle est la methode de Python pour \"sérialiser\"/\"dé-sérialiser\" de facon *binaire* des objets."
   ]
  },
  {
   "cell_type": "code",
   "execution_count": 8,
   "metadata": {
    "collapsed": true
   },
   "outputs": [],
   "source": [
    "import pickle\n",
    "\n",
    "mes_supper_données = [\"égal\",\"empli de bienveillance\",\"empli de tendresse\",\"empressé\",\"en confiance\",\"en harmonie avec en paix\"]\n",
    "fichier = open(\"test_pickle.pkl\",\"bw\")  # Bien utiliser le mode binaire\n",
    "pickle.dump(mes_supper_données, fichier)\n",
    "fichier.close()"
   ]
  },
  {
   "cell_type": "code",
   "execution_count": 11,
   "metadata": {},
   "outputs": [
    {
     "name": "stdout",
     "output_type": "stream",
     "text": [
      "['égal', 'empli de bienveillance', 'empli de tendresse', 'empressé', 'en confiance', 'en harmonie avec en paix']\n"
     ]
    }
   ],
   "source": [
    "fichier = open(\"test_pickle.pkl\",\"rb\")  # Bien utiliser le mode binaire\n",
    "keywords = pickle.load(fichier)\n",
    "fichier.close()\n",
    "print( keywords )\n"
   ]
  }
 ],
 "metadata": {
  "kernelspec": {
   "display_name": "Python 3",
   "language": "python",
   "name": "python3"
  },
  "language_info": {
   "codemirror_mode": {
    "name": "ipython",
    "version": 3
   },
   "file_extension": ".py",
   "mimetype": "text/x-python",
   "name": "python",
   "nbconvert_exporter": "python",
   "pygments_lexer": "ipython3",
   "version": "3.5.2"
  }
 },
 "nbformat": 4,
 "nbformat_minor": 2
}
