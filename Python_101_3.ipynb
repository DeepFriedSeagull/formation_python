{
 "cells": [
  {
   "cell_type": "markdown",
   "metadata": {},
   "source": [
    "# GIT commands\n",
    "\n",
    "git clone adresse.git => rapatrie le code sur la machine locale\n",
    "\n",
    "git status => État du répertoire de travail\n",
    "\n",
    "git add nom_de_fichier  => Ajoute le fichier dans “STAGING” et tracker les futurs modification du fichier si cela n’était pas le cas\n",
    "\n",
    "git commit -m “Mon message” => Enregistre les modifications de STAGING avec le message dans la database locale.\n",
    "\n",
    "git push => envoie toutes les modifications récente de la base locale vers un repo distant (remote)\n"
   ]
  }
 ],
 "metadata": {
  "kernelspec": {
   "display_name": "Python 3",
   "language": "python",
   "name": "python3"
  },
  "language_info": {
   "codemirror_mode": {
    "name": "ipython",
    "version": 3
   },
   "file_extension": ".py",
   "mimetype": "text/x-python",
   "name": "python",
   "nbconvert_exporter": "python",
   "pygments_lexer": "ipython3",
   "version": "3.5.2"
  }
 },
 "nbformat": 4,
 "nbformat_minor": 2
}
